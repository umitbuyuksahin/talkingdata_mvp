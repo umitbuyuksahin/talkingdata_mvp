{
 "cells": [
  {
   "cell_type": "code",
   "execution_count": 51,
   "id": "intended-continuity",
   "metadata": {},
   "outputs": [],
   "source": [
    "import numpy as np\n",
    "import pandas as pd\n",
    "import os\n",
    "import gc\n",
    "import lightgbm as lgb\n",
    "from sklearn.ensemble import RandomForestClassifier,VotingClassifier\n",
    "from sklearn.metrics import roc_auc_score\n",
    "from sklearn import model_selection\n",
    "from scipy.stats import uniform\n",
    "from sklearn.utils.fixes import loguniform\n",
    "import seaborn as sns\n",
    "import matplotlib.pyplot as plt\n",
    "rc_params = {\n",
    "    'legend.fontsize': 16,\n",
    "    'axes.labelsize': 16,\n",
    "    'axes.titlesize': 16,\n",
    "    'xtick.labelsize': 16,\n",
    "    'ytick.labelsize': 16}\n",
    "plt.rcParams.update(rc_params)\n",
    "\n",
    "\n",
    "\n",
    "data_path = \"data\""
   ]
  },
  {
   "cell_type": "markdown",
   "id": "active-leader",
   "metadata": {},
   "source": [
    "# 1. INTRODUCTION"
   ]
  },
  {
   "cell_type": "markdown",
   "id": "internal-services",
   "metadata": {},
   "source": [
    "\n",
    "huge amount of data\n",
    "    \n",
    "\n",
    "<b> check data </b><br>\n",
    "$ ls -lh ./data\n",
    "187M  2019 sample_submission.csv <br>\n",
    "824M Dec 12  2019 test.csv <br>\n",
    "2.5G Dec 12  2019 test_supplement.csv <br>\n",
    "7.1G Dec 12  2019 train.csv <br>\n",
    "3.9M Dec 12  2019 train_sample.csv <br>\n",
    "\n",
    "$ cat train.csv | wc -l<br>\n",
    "184903891\n",
    "\n",
    "$ cat test.csv | wc -l<br>\n",
    "18790470\n",
    "\n",
    "\n",
    "\n",
    "use gc (garbage collector). I woulc be better to  delete constantly unncessary things.<br>\n",
    "use dask instead of pandas <br>\n",
    "read csv chunk by chunk or use feather <br>\n",
    "use appropriate dyteps while reading file columns to reduce memory usage <br>\n",
    "\n"
   ]
  },
  {
   "cell_type": "markdown",
   "id": "wireless-regulation",
   "metadata": {},
   "source": [
    "# 2. EDA"
   ]
  },
  {
   "cell_type": "markdown",
   "id": "favorite-apparatus",
   "metadata": {},
   "source": [
    "### 2.1 train_sample dataset\n",
    "\n",
    "glimpse the sample train dataset to see data, fields, etc."
   ]
  },
  {
   "cell_type": "code",
   "execution_count": 5,
   "id": "behind-complement",
   "metadata": {},
   "outputs": [
    {
     "data": {
      "text/html": [
       "<div>\n",
       "<style scoped>\n",
       "    .dataframe tbody tr th:only-of-type {\n",
       "        vertical-align: middle;\n",
       "    }\n",
       "\n",
       "    .dataframe tbody tr th {\n",
       "        vertical-align: top;\n",
       "    }\n",
       "\n",
       "    .dataframe thead th {\n",
       "        text-align: right;\n",
       "    }\n",
       "</style>\n",
       "<table border=\"1\" class=\"dataframe\">\n",
       "  <thead>\n",
       "    <tr style=\"text-align: right;\">\n",
       "      <th></th>\n",
       "      <th>ip</th>\n",
       "      <th>app</th>\n",
       "      <th>device</th>\n",
       "      <th>os</th>\n",
       "      <th>channel</th>\n",
       "      <th>click_time</th>\n",
       "      <th>attributed_time</th>\n",
       "      <th>is_attributed</th>\n",
       "    </tr>\n",
       "  </thead>\n",
       "  <tbody>\n",
       "    <tr>\n",
       "      <th>0</th>\n",
       "      <td>87540</td>\n",
       "      <td>12</td>\n",
       "      <td>1</td>\n",
       "      <td>13</td>\n",
       "      <td>497</td>\n",
       "      <td>2017-11-07 09:30:38</td>\n",
       "      <td>NaN</td>\n",
       "      <td>0</td>\n",
       "    </tr>\n",
       "    <tr>\n",
       "      <th>1</th>\n",
       "      <td>105560</td>\n",
       "      <td>25</td>\n",
       "      <td>1</td>\n",
       "      <td>17</td>\n",
       "      <td>259</td>\n",
       "      <td>2017-11-07 13:40:27</td>\n",
       "      <td>NaN</td>\n",
       "      <td>0</td>\n",
       "    </tr>\n",
       "    <tr>\n",
       "      <th>2</th>\n",
       "      <td>101424</td>\n",
       "      <td>12</td>\n",
       "      <td>1</td>\n",
       "      <td>19</td>\n",
       "      <td>212</td>\n",
       "      <td>2017-11-07 18:05:24</td>\n",
       "      <td>NaN</td>\n",
       "      <td>0</td>\n",
       "    </tr>\n",
       "    <tr>\n",
       "      <th>3</th>\n",
       "      <td>94584</td>\n",
       "      <td>13</td>\n",
       "      <td>1</td>\n",
       "      <td>13</td>\n",
       "      <td>477</td>\n",
       "      <td>2017-11-07 04:58:08</td>\n",
       "      <td>NaN</td>\n",
       "      <td>0</td>\n",
       "    </tr>\n",
       "    <tr>\n",
       "      <th>4</th>\n",
       "      <td>68413</td>\n",
       "      <td>12</td>\n",
       "      <td>1</td>\n",
       "      <td>1</td>\n",
       "      <td>178</td>\n",
       "      <td>2017-11-09 09:00:09</td>\n",
       "      <td>NaN</td>\n",
       "      <td>0</td>\n",
       "    </tr>\n",
       "  </tbody>\n",
       "</table>\n",
       "</div>"
      ],
      "text/plain": [
       "       ip  app  device  os  channel           click_time attributed_time  \\\n",
       "0   87540   12       1  13      497  2017-11-07 09:30:38             NaN   \n",
       "1  105560   25       1  17      259  2017-11-07 13:40:27             NaN   \n",
       "2  101424   12       1  19      212  2017-11-07 18:05:24             NaN   \n",
       "3   94584   13       1  13      477  2017-11-07 04:58:08             NaN   \n",
       "4   68413   12       1   1      178  2017-11-09 09:00:09             NaN   \n",
       "\n",
       "   is_attributed  \n",
       "0              0  \n",
       "1              0  \n",
       "2              0  \n",
       "3              0  \n",
       "4              0  "
      ]
     },
     "execution_count": 5,
     "metadata": {},
     "output_type": "execute_result"
    }
   ],
   "source": [
    "train_sample_df = pd.read_csv(os.path.join(data_path, \"train_sample.csv\"))\n",
    "train_sample_df.head()    "
   ]
  },
  {
   "cell_type": "code",
   "execution_count": 6,
   "id": "cathedral-mileage",
   "metadata": {},
   "outputs": [
    {
     "name": "stdout",
     "output_type": "stream",
     "text": [
      "<class 'pandas.core.frame.DataFrame'>\n",
      "RangeIndex: 100000 entries, 0 to 99999\n",
      "Data columns (total 8 columns):\n",
      " #   Column           Non-Null Count   Dtype \n",
      "---  ------           --------------   ----- \n",
      " 0   ip               100000 non-null  int64 \n",
      " 1   app              100000 non-null  int64 \n",
      " 2   device           100000 non-null  int64 \n",
      " 3   os               100000 non-null  int64 \n",
      " 4   channel          100000 non-null  int64 \n",
      " 5   click_time       100000 non-null  object\n",
      " 6   attributed_time  227 non-null     object\n",
      " 7   is_attributed    100000 non-null  int64 \n",
      "dtypes: int64(6), object(2)\n",
      "memory usage: 6.1+ MB\n"
     ]
    }
   ],
   "source": [
    "train_sample_df.info()"
   ]
  },
  {
   "cell_type": "code",
   "execution_count": 7,
   "id": "retired-rider",
   "metadata": {},
   "outputs": [
    {
     "data": {
      "text/plain": [
       "('2017-11-06 16:00:00', '2017-11-09 15:59:51')"
      ]
     },
     "execution_count": 7,
     "metadata": {},
     "output_type": "execute_result"
    }
   ],
   "source": [
    "train_sample_df['click_time'].min(), train_sample_df['click_time'].max()"
   ]
  },
  {
   "cell_type": "code",
   "execution_count": 8,
   "id": "appreciated-details",
   "metadata": {},
   "outputs": [
    {
     "data": {
      "text/plain": [
       "0    99773\n",
       "1      227\n",
       "Name: is_attributed, dtype: int64"
      ]
     },
     "execution_count": 8,
     "metadata": {},
     "output_type": "execute_result"
    }
   ],
   "source": [
    "value_counts = train_sample_df['is_attributed'].value_counts()\n",
    "value_counts"
   ]
  },
  {
   "cell_type": "code",
   "execution_count": 9,
   "id": "sonic-demand",
   "metadata": {},
   "outputs": [
    {
     "data": {
      "text/plain": [
       "0.227"
      ]
     },
     "execution_count": 9,
     "metadata": {},
     "output_type": "execute_result"
    }
   ],
   "source": [
    "round(100 * (value_counts.iloc[1] / len(train_sample_df)),3)"
   ]
  },
  {
   "cell_type": "markdown",
   "id": "hired-powell",
   "metadata": {},
   "source": [
    "### 2.2 test dataset"
   ]
  },
  {
   "cell_type": "code",
   "execution_count": 10,
   "id": "instant-determination",
   "metadata": {},
   "outputs": [
    {
     "data": {
      "text/html": [
       "<div>\n",
       "<style scoped>\n",
       "    .dataframe tbody tr th:only-of-type {\n",
       "        vertical-align: middle;\n",
       "    }\n",
       "\n",
       "    .dataframe tbody tr th {\n",
       "        vertical-align: top;\n",
       "    }\n",
       "\n",
       "    .dataframe thead th {\n",
       "        text-align: right;\n",
       "    }\n",
       "</style>\n",
       "<table border=\"1\" class=\"dataframe\">\n",
       "  <thead>\n",
       "    <tr style=\"text-align: right;\">\n",
       "      <th></th>\n",
       "      <th>click_id</th>\n",
       "      <th>ip</th>\n",
       "      <th>app</th>\n",
       "      <th>device</th>\n",
       "      <th>os</th>\n",
       "      <th>channel</th>\n",
       "      <th>click_time</th>\n",
       "    </tr>\n",
       "  </thead>\n",
       "  <tbody>\n",
       "    <tr>\n",
       "      <th>0</th>\n",
       "      <td>0</td>\n",
       "      <td>5744</td>\n",
       "      <td>9</td>\n",
       "      <td>1</td>\n",
       "      <td>3</td>\n",
       "      <td>107</td>\n",
       "      <td>2017-11-10 04:00:00</td>\n",
       "    </tr>\n",
       "    <tr>\n",
       "      <th>1</th>\n",
       "      <td>1</td>\n",
       "      <td>119901</td>\n",
       "      <td>9</td>\n",
       "      <td>1</td>\n",
       "      <td>3</td>\n",
       "      <td>466</td>\n",
       "      <td>2017-11-10 04:00:00</td>\n",
       "    </tr>\n",
       "    <tr>\n",
       "      <th>2</th>\n",
       "      <td>2</td>\n",
       "      <td>72287</td>\n",
       "      <td>21</td>\n",
       "      <td>1</td>\n",
       "      <td>19</td>\n",
       "      <td>128</td>\n",
       "      <td>2017-11-10 04:00:00</td>\n",
       "    </tr>\n",
       "    <tr>\n",
       "      <th>3</th>\n",
       "      <td>3</td>\n",
       "      <td>78477</td>\n",
       "      <td>15</td>\n",
       "      <td>1</td>\n",
       "      <td>13</td>\n",
       "      <td>111</td>\n",
       "      <td>2017-11-10 04:00:00</td>\n",
       "    </tr>\n",
       "    <tr>\n",
       "      <th>4</th>\n",
       "      <td>4</td>\n",
       "      <td>123080</td>\n",
       "      <td>12</td>\n",
       "      <td>1</td>\n",
       "      <td>13</td>\n",
       "      <td>328</td>\n",
       "      <td>2017-11-10 04:00:00</td>\n",
       "    </tr>\n",
       "  </tbody>\n",
       "</table>\n",
       "</div>"
      ],
      "text/plain": [
       "   click_id      ip  app  device  os  channel           click_time\n",
       "0         0    5744    9       1   3      107  2017-11-10 04:00:00\n",
       "1         1  119901    9       1   3      466  2017-11-10 04:00:00\n",
       "2         2   72287   21       1  19      128  2017-11-10 04:00:00\n",
       "3         3   78477   15       1  13      111  2017-11-10 04:00:00\n",
       "4         4  123080   12       1  13      328  2017-11-10 04:00:00"
      ]
     },
     "execution_count": 10,
     "metadata": {},
     "output_type": "execute_result"
    }
   ],
   "source": [
    "test_df = pd.read_csv(os.path.join(data_path, \"test.csv\"))\n",
    "test_df.head()   "
   ]
  },
  {
   "cell_type": "code",
   "execution_count": 11,
   "id": "polished-amount",
   "metadata": {},
   "outputs": [
    {
     "name": "stdout",
     "output_type": "stream",
     "text": [
      "<class 'pandas.core.frame.DataFrame'>\n",
      "RangeIndex: 18790469 entries, 0 to 18790468\n",
      "Data columns (total 7 columns):\n",
      " #   Column      Dtype \n",
      "---  ------      ----- \n",
      " 0   click_id    int64 \n",
      " 1   ip          int64 \n",
      " 2   app         int64 \n",
      " 3   device      int64 \n",
      " 4   os          int64 \n",
      " 5   channel     int64 \n",
      " 6   click_time  object\n",
      "dtypes: int64(6), object(1)\n",
      "memory usage: 1003.5+ MB\n"
     ]
    }
   ],
   "source": [
    "test_df.info()"
   ]
  },
  {
   "cell_type": "code",
   "execution_count": 12,
   "id": "alien-manitoba",
   "metadata": {},
   "outputs": [
    {
     "data": {
      "text/plain": [
       "('2017-11-10 04:00:00', '2017-11-10 15:00:00')"
      ]
     },
     "execution_count": 12,
     "metadata": {},
     "output_type": "execute_result"
    }
   ],
   "source": [
    "test_df['click_time'].min(), test_df['click_time'].max()"
   ]
  },
  {
   "cell_type": "markdown",
   "id": "funky-halifax",
   "metadata": {},
   "source": [
    "### 2.3 Descriptive stats"
   ]
  },
  {
   "cell_type": "code",
   "execution_count": 13,
   "id": "virgin-translator",
   "metadata": {},
   "outputs": [
    {
     "data": {
      "text/html": [
       "<div>\n",
       "<style scoped>\n",
       "    .dataframe tbody tr th:only-of-type {\n",
       "        vertical-align: middle;\n",
       "    }\n",
       "\n",
       "    .dataframe tbody tr th {\n",
       "        vertical-align: top;\n",
       "    }\n",
       "\n",
       "    .dataframe thead th {\n",
       "        text-align: right;\n",
       "    }\n",
       "</style>\n",
       "<table border=\"1\" class=\"dataframe\">\n",
       "  <thead>\n",
       "    <tr style=\"text-align: right;\">\n",
       "      <th></th>\n",
       "      <th>ip</th>\n",
       "      <th>app</th>\n",
       "      <th>device</th>\n",
       "      <th>os</th>\n",
       "      <th>channel</th>\n",
       "      <th>is_attributed</th>\n",
       "    </tr>\n",
       "  </thead>\n",
       "  <tbody>\n",
       "    <tr>\n",
       "      <th>count</th>\n",
       "      <td>100000.000000</td>\n",
       "      <td>100000.00000</td>\n",
       "      <td>100000.000000</td>\n",
       "      <td>100000.000000</td>\n",
       "      <td>100000.000000</td>\n",
       "      <td>100000.000000</td>\n",
       "    </tr>\n",
       "    <tr>\n",
       "      <th>mean</th>\n",
       "      <td>91255.879670</td>\n",
       "      <td>12.04788</td>\n",
       "      <td>21.771250</td>\n",
       "      <td>22.818280</td>\n",
       "      <td>268.832460</td>\n",
       "      <td>0.002270</td>\n",
       "    </tr>\n",
       "    <tr>\n",
       "      <th>std</th>\n",
       "      <td>69835.553661</td>\n",
       "      <td>14.94150</td>\n",
       "      <td>259.667767</td>\n",
       "      <td>55.943136</td>\n",
       "      <td>129.724248</td>\n",
       "      <td>0.047591</td>\n",
       "    </tr>\n",
       "    <tr>\n",
       "      <th>min</th>\n",
       "      <td>9.000000</td>\n",
       "      <td>1.00000</td>\n",
       "      <td>0.000000</td>\n",
       "      <td>0.000000</td>\n",
       "      <td>3.000000</td>\n",
       "      <td>0.000000</td>\n",
       "    </tr>\n",
       "    <tr>\n",
       "      <th>25%</th>\n",
       "      <td>40552.000000</td>\n",
       "      <td>3.00000</td>\n",
       "      <td>1.000000</td>\n",
       "      <td>13.000000</td>\n",
       "      <td>145.000000</td>\n",
       "      <td>0.000000</td>\n",
       "    </tr>\n",
       "    <tr>\n",
       "      <th>50%</th>\n",
       "      <td>79827.000000</td>\n",
       "      <td>12.00000</td>\n",
       "      <td>1.000000</td>\n",
       "      <td>18.000000</td>\n",
       "      <td>258.000000</td>\n",
       "      <td>0.000000</td>\n",
       "    </tr>\n",
       "    <tr>\n",
       "      <th>75%</th>\n",
       "      <td>118252.000000</td>\n",
       "      <td>15.00000</td>\n",
       "      <td>1.000000</td>\n",
       "      <td>19.000000</td>\n",
       "      <td>379.000000</td>\n",
       "      <td>0.000000</td>\n",
       "    </tr>\n",
       "    <tr>\n",
       "      <th>max</th>\n",
       "      <td>364757.000000</td>\n",
       "      <td>551.00000</td>\n",
       "      <td>3867.000000</td>\n",
       "      <td>866.000000</td>\n",
       "      <td>498.000000</td>\n",
       "      <td>1.000000</td>\n",
       "    </tr>\n",
       "  </tbody>\n",
       "</table>\n",
       "</div>"
      ],
      "text/plain": [
       "                  ip           app         device             os  \\\n",
       "count  100000.000000  100000.00000  100000.000000  100000.000000   \n",
       "mean    91255.879670      12.04788      21.771250      22.818280   \n",
       "std     69835.553661      14.94150     259.667767      55.943136   \n",
       "min         9.000000       1.00000       0.000000       0.000000   \n",
       "25%     40552.000000       3.00000       1.000000      13.000000   \n",
       "50%     79827.000000      12.00000       1.000000      18.000000   \n",
       "75%    118252.000000      15.00000       1.000000      19.000000   \n",
       "max    364757.000000     551.00000    3867.000000     866.000000   \n",
       "\n",
       "             channel  is_attributed  \n",
       "count  100000.000000  100000.000000  \n",
       "mean      268.832460       0.002270  \n",
       "std       129.724248       0.047591  \n",
       "min         3.000000       0.000000  \n",
       "25%       145.000000       0.000000  \n",
       "50%       258.000000       0.000000  \n",
       "75%       379.000000       0.000000  \n",
       "max       498.000000       1.000000  "
      ]
     },
     "execution_count": 13,
     "metadata": {},
     "output_type": "execute_result"
    }
   ],
   "source": [
    "train_sample_df.describe()"
   ]
  },
  {
   "cell_type": "code",
   "execution_count": 14,
   "id": "orange-bermuda",
   "metadata": {},
   "outputs": [
    {
     "data": {
      "text/html": [
       "<div>\n",
       "<style scoped>\n",
       "    .dataframe tbody tr th:only-of-type {\n",
       "        vertical-align: middle;\n",
       "    }\n",
       "\n",
       "    .dataframe tbody tr th {\n",
       "        vertical-align: top;\n",
       "    }\n",
       "\n",
       "    .dataframe thead th {\n",
       "        text-align: right;\n",
       "    }\n",
       "</style>\n",
       "<table border=\"1\" class=\"dataframe\">\n",
       "  <thead>\n",
       "    <tr style=\"text-align: right;\">\n",
       "      <th></th>\n",
       "      <th>click_id</th>\n",
       "      <th>ip</th>\n",
       "      <th>app</th>\n",
       "      <th>device</th>\n",
       "      <th>os</th>\n",
       "      <th>channel</th>\n",
       "    </tr>\n",
       "  </thead>\n",
       "  <tbody>\n",
       "    <tr>\n",
       "      <th>count</th>\n",
       "      <td>1.879047e+07</td>\n",
       "      <td>1.879047e+07</td>\n",
       "      <td>1.879047e+07</td>\n",
       "      <td>1.879047e+07</td>\n",
       "      <td>1.879047e+07</td>\n",
       "      <td>1.879047e+07</td>\n",
       "    </tr>\n",
       "    <tr>\n",
       "      <th>mean</th>\n",
       "      <td>9.395234e+06</td>\n",
       "      <td>6.306921e+04</td>\n",
       "      <td>1.221480e+01</td>\n",
       "      <td>1.730513e+00</td>\n",
       "      <td>1.873312e+01</td>\n",
       "      <td>2.648059e+02</td>\n",
       "    </tr>\n",
       "    <tr>\n",
       "      <th>std</th>\n",
       "      <td>5.424341e+06</td>\n",
       "      <td>3.688597e+04</td>\n",
       "      <td>1.164924e+01</td>\n",
       "      <td>2.597038e+01</td>\n",
       "      <td>1.135059e+01</td>\n",
       "      <td>1.355254e+02</td>\n",
       "    </tr>\n",
       "    <tr>\n",
       "      <th>min</th>\n",
       "      <td>0.000000e+00</td>\n",
       "      <td>0.000000e+00</td>\n",
       "      <td>0.000000e+00</td>\n",
       "      <td>0.000000e+00</td>\n",
       "      <td>0.000000e+00</td>\n",
       "      <td>0.000000e+00</td>\n",
       "    </tr>\n",
       "    <tr>\n",
       "      <th>25%</th>\n",
       "      <td>4.697617e+06</td>\n",
       "      <td>3.155800e+04</td>\n",
       "      <td>3.000000e+00</td>\n",
       "      <td>1.000000e+00</td>\n",
       "      <td>1.300000e+01</td>\n",
       "      <td>1.350000e+02</td>\n",
       "    </tr>\n",
       "    <tr>\n",
       "      <th>50%</th>\n",
       "      <td>9.395234e+06</td>\n",
       "      <td>6.393600e+04</td>\n",
       "      <td>1.200000e+01</td>\n",
       "      <td>1.000000e+00</td>\n",
       "      <td>1.800000e+01</td>\n",
       "      <td>2.360000e+02</td>\n",
       "    </tr>\n",
       "    <tr>\n",
       "      <th>75%</th>\n",
       "      <td>1.409285e+07</td>\n",
       "      <td>9.531600e+04</td>\n",
       "      <td>1.800000e+01</td>\n",
       "      <td>1.000000e+00</td>\n",
       "      <td>1.900000e+01</td>\n",
       "      <td>4.010000e+02</td>\n",
       "    </tr>\n",
       "    <tr>\n",
       "      <th>max</th>\n",
       "      <td>1.879047e+07</td>\n",
       "      <td>1.264130e+05</td>\n",
       "      <td>5.210000e+02</td>\n",
       "      <td>3.031000e+03</td>\n",
       "      <td>6.040000e+02</td>\n",
       "      <td>4.980000e+02</td>\n",
       "    </tr>\n",
       "  </tbody>\n",
       "</table>\n",
       "</div>"
      ],
      "text/plain": [
       "           click_id            ip           app        device            os  \\\n",
       "count  1.879047e+07  1.879047e+07  1.879047e+07  1.879047e+07  1.879047e+07   \n",
       "mean   9.395234e+06  6.306921e+04  1.221480e+01  1.730513e+00  1.873312e+01   \n",
       "std    5.424341e+06  3.688597e+04  1.164924e+01  2.597038e+01  1.135059e+01   \n",
       "min    0.000000e+00  0.000000e+00  0.000000e+00  0.000000e+00  0.000000e+00   \n",
       "25%    4.697617e+06  3.155800e+04  3.000000e+00  1.000000e+00  1.300000e+01   \n",
       "50%    9.395234e+06  6.393600e+04  1.200000e+01  1.000000e+00  1.800000e+01   \n",
       "75%    1.409285e+07  9.531600e+04  1.800000e+01  1.000000e+00  1.900000e+01   \n",
       "max    1.879047e+07  1.264130e+05  5.210000e+02  3.031000e+03  6.040000e+02   \n",
       "\n",
       "            channel  \n",
       "count  1.879047e+07  \n",
       "mean   2.648059e+02  \n",
       "std    1.355254e+02  \n",
       "min    0.000000e+00  \n",
       "25%    1.350000e+02  \n",
       "50%    2.360000e+02  \n",
       "75%    4.010000e+02  \n",
       "max    4.980000e+02  "
      ]
     },
     "execution_count": 14,
     "metadata": {},
     "output_type": "execute_result"
    }
   ],
   "source": [
    "test_df.describe()"
   ]
  },
  {
   "cell_type": "markdown",
   "id": "artistic-fellow",
   "metadata": {},
   "source": [
    "<b> Comment </b><br> \n",
    "1. attributed_time empty and not in test: remove unused column \n",
    "\n",
    "2. pandas assign int64 to all integers,  correct dtype can be specified while loading data to reduce memory usage <br>.\n",
    "int8 can store integers from -128 to 127.\n",
    "int16 can store integers from -32768 to 32767.<br>\n",
    "    \n",
    "    * is_attributed is either 0 or 1, so it can bes cast to uint8<br>\n",
    "    * channel changes between (0,498), so it can bes cast to uint16<br>\n",
    "    \n",
    "3. testset includes data from only at 2017-11-10. Morever, minutes&seconds could be removed from click_time, even tough they might give an idea about fraud movements. Hoever, .... A very large number of clicks from the same IP in a very short time can be used for fraud detection. <br>\n",
    "\n",
    "4. it is not posibbile to read all train data due to hardrwade limitation. I need to sample it (~4M). On the other hand, fraudelent attributes are %0.22 of sampled train data. it seems highly unbalanced. Therefore it is better to read all fraud attirbuted value."
   ]
  },
  {
   "cell_type": "markdown",
   "id": "final-bolivia",
   "metadata": {},
   "source": [
    "### 2.3 train dataset (all positive attributes and sampled negative attributes)"
   ]
  },
  {
   "cell_type": "code",
   "execution_count": 15,
   "id": "opposite-steering",
   "metadata": {},
   "outputs": [
    {
     "name": "stdout",
     "output_type": "stream",
     "text": [
      "0    3993058\n",
      "1       6942\n",
      "Name: is_attributed, dtype: int64\n",
      "------------\n",
      "0    3991802\n",
      "1       8198\n",
      "Name: is_attributed, dtype: int64\n",
      "------------\n",
      "0    3991750\n",
      "1       8250\n",
      "Name: is_attributed, dtype: int64\n",
      "------------\n",
      "0    3988062\n",
      "1      11938\n",
      "Name: is_attributed, dtype: int64\n",
      "------------\n",
      "0    3985864\n",
      "1      14136\n",
      "Name: is_attributed, dtype: int64\n",
      "------------\n",
      "0    3989093\n",
      "1      10907\n",
      "Name: is_attributed, dtype: int64\n",
      "------------\n",
      "0    3990748\n",
      "1       9252\n",
      "Name: is_attributed, dtype: int64\n",
      "------------\n",
      "0    3989739\n",
      "1      10261\n",
      "Name: is_attributed, dtype: int64\n",
      "------------\n",
      "0    3989236\n",
      "1      10764\n",
      "Name: is_attributed, dtype: int64\n",
      "------------\n",
      "0    3987414\n",
      "1      12586\n",
      "Name: is_attributed, dtype: int64\n",
      "------------\n",
      "0    3989836\n",
      "1      10164\n",
      "Name: is_attributed, dtype: int64\n",
      "------------\n",
      "0    3988283\n",
      "1      11717\n",
      "Name: is_attributed, dtype: int64\n",
      "------------\n",
      "0    3988109\n",
      "1      11891\n",
      "Name: is_attributed, dtype: int64\n",
      "------------\n",
      "0    3990202\n",
      "1       9798\n",
      "Name: is_attributed, dtype: int64\n",
      "------------\n",
      "0    3994286\n",
      "1       5714\n",
      "Name: is_attributed, dtype: int64\n",
      "------------\n",
      "0    3992995\n",
      "1       7005\n",
      "Name: is_attributed, dtype: int64\n",
      "------------\n",
      "0    3991545\n",
      "1       8455\n",
      "Name: is_attributed, dtype: int64\n",
      "------------\n",
      "0    3992496\n",
      "1       7504\n",
      "Name: is_attributed, dtype: int64\n",
      "------------\n",
      "0    3988624\n",
      "1      11376\n",
      "Name: is_attributed, dtype: int64\n",
      "------------\n",
      "0    3989214\n",
      "1      10786\n",
      "Name: is_attributed, dtype: int64\n",
      "------------\n",
      "0    3987461\n",
      "1      12539\n",
      "Name: is_attributed, dtype: int64\n",
      "------------\n",
      "0    3987488\n",
      "1      12512\n",
      "Name: is_attributed, dtype: int64\n",
      "------------\n",
      "0    3988156\n",
      "1      11844\n",
      "Name: is_attributed, dtype: int64\n",
      "------------\n",
      "0    3988782\n",
      "1      11218\n",
      "Name: is_attributed, dtype: int64\n",
      "------------\n",
      "0    3989481\n",
      "1      10519\n",
      "Name: is_attributed, dtype: int64\n",
      "------------\n",
      "0    3990838\n",
      "1       9162\n",
      "Name: is_attributed, dtype: int64\n",
      "------------\n",
      "0    3990033\n",
      "1       9967\n",
      "Name: is_attributed, dtype: int64\n",
      "------------\n",
      "0    3990124\n",
      "1       9876\n",
      "Name: is_attributed, dtype: int64\n",
      "------------\n",
      "0    3991438\n",
      "1       8562\n",
      "Name: is_attributed, dtype: int64\n",
      "------------\n",
      "0    3993217\n",
      "1       6783\n",
      "Name: is_attributed, dtype: int64\n",
      "------------\n",
      "0    3993754\n",
      "1       6246\n",
      "Name: is_attributed, dtype: int64\n",
      "------------\n",
      "0    3992054\n",
      "1       7946\n",
      "Name: is_attributed, dtype: int64\n",
      "------------\n",
      "0    3991717\n",
      "1       8283\n",
      "Name: is_attributed, dtype: int64\n",
      "------------\n",
      "0    3991488\n",
      "1       8512\n",
      "Name: is_attributed, dtype: int64\n",
      "------------\n",
      "0    3988875\n",
      "1      11125\n",
      "Name: is_attributed, dtype: int64\n",
      "------------\n",
      "0    3988677\n",
      "1      11323\n",
      "Name: is_attributed, dtype: int64\n",
      "------------\n",
      "0    3990290\n",
      "1       9710\n",
      "Name: is_attributed, dtype: int64\n",
      "------------\n",
      "0    3990425\n",
      "1       9575\n",
      "Name: is_attributed, dtype: int64\n",
      "------------\n",
      "0    3989324\n",
      "1      10676\n",
      "Name: is_attributed, dtype: int64\n",
      "------------\n",
      "0    3988595\n",
      "1      11405\n",
      "Name: is_attributed, dtype: int64\n",
      "------------\n",
      "0    3988260\n",
      "1      11740\n",
      "Name: is_attributed, dtype: int64\n",
      "------------\n",
      "0    3989830\n",
      "1      10170\n",
      "Name: is_attributed, dtype: int64\n",
      "------------\n",
      "0    3989835\n",
      "1      10165\n",
      "Name: is_attributed, dtype: int64\n",
      "------------\n",
      "0    3989548\n",
      "1      10452\n",
      "Name: is_attributed, dtype: int64\n",
      "------------\n",
      "0    3990167\n",
      "1       9833\n",
      "Name: is_attributed, dtype: int64\n",
      "------------\n",
      "0    3992202\n",
      "1       7798\n",
      "Name: is_attributed, dtype: int64\n",
      "------------\n",
      "0    902629\n",
      "1      1261\n",
      "Name: is_attributed, dtype: int64\n",
      "------------\n"
     ]
    },
    {
     "data": {
      "text/html": [
       "<div>\n",
       "<style scoped>\n",
       "    .dataframe tbody tr th:only-of-type {\n",
       "        vertical-align: middle;\n",
       "    }\n",
       "\n",
       "    .dataframe tbody tr th {\n",
       "        vertical-align: top;\n",
       "    }\n",
       "\n",
       "    .dataframe thead th {\n",
       "        text-align: right;\n",
       "    }\n",
       "</style>\n",
       "<table border=\"1\" class=\"dataframe\">\n",
       "  <thead>\n",
       "    <tr style=\"text-align: right;\">\n",
       "      <th></th>\n",
       "      <th>ip</th>\n",
       "      <th>app</th>\n",
       "      <th>device</th>\n",
       "      <th>os</th>\n",
       "      <th>channel</th>\n",
       "      <th>is_attributed</th>\n",
       "    </tr>\n",
       "  </thead>\n",
       "  <tbody>\n",
       "    <tr>\n",
       "      <th>count</th>\n",
       "      <td>4.634582e+06</td>\n",
       "      <td>4.634582e+06</td>\n",
       "      <td>4.634582e+06</td>\n",
       "      <td>4.634582e+06</td>\n",
       "      <td>4.634582e+06</td>\n",
       "      <td>4.634582e+06</td>\n",
       "    </tr>\n",
       "    <tr>\n",
       "      <th>mean</th>\n",
       "      <td>9.821082e+04</td>\n",
       "      <td>1.372415e+01</td>\n",
       "      <td>2.256507e+01</td>\n",
       "      <td>2.283386e+01</td>\n",
       "      <td>2.622898e+02</td>\n",
       "      <td>9.857329e-02</td>\n",
       "    </tr>\n",
       "    <tr>\n",
       "      <th>std</th>\n",
       "      <td>7.718802e+04</td>\n",
       "      <td>1.823492e+01</td>\n",
       "      <td>2.550767e+02</td>\n",
       "      <td>5.520052e+01</td>\n",
       "      <td>1.296426e+02</td>\n",
       "      <td>2.980883e-01</td>\n",
       "    </tr>\n",
       "    <tr>\n",
       "      <th>min</th>\n",
       "      <td>1.000000e+00</td>\n",
       "      <td>0.000000e+00</td>\n",
       "      <td>0.000000e+00</td>\n",
       "      <td>0.000000e+00</td>\n",
       "      <td>0.000000e+00</td>\n",
       "      <td>0.000000e+00</td>\n",
       "    </tr>\n",
       "    <tr>\n",
       "      <th>25%</th>\n",
       "      <td>4.201900e+04</td>\n",
       "      <td>3.000000e+00</td>\n",
       "      <td>1.000000e+00</td>\n",
       "      <td>1.300000e+01</td>\n",
       "      <td>1.400000e+02</td>\n",
       "      <td>0.000000e+00</td>\n",
       "    </tr>\n",
       "    <tr>\n",
       "      <th>50%</th>\n",
       "      <td>8.294100e+04</td>\n",
       "      <td>1.200000e+01</td>\n",
       "      <td>1.000000e+00</td>\n",
       "      <td>1.800000e+01</td>\n",
       "      <td>2.450000e+02</td>\n",
       "      <td>0.000000e+00</td>\n",
       "    </tr>\n",
       "    <tr>\n",
       "      <th>75%</th>\n",
       "      <td>1.239200e+05</td>\n",
       "      <td>1.800000e+01</td>\n",
       "      <td>1.000000e+00</td>\n",
       "      <td>1.900000e+01</td>\n",
       "      <td>3.770000e+02</td>\n",
       "      <td>0.000000e+00</td>\n",
       "    </tr>\n",
       "    <tr>\n",
       "      <th>max</th>\n",
       "      <td>3.647780e+05</td>\n",
       "      <td>7.680000e+02</td>\n",
       "      <td>4.223000e+03</td>\n",
       "      <td>9.020000e+02</td>\n",
       "      <td>4.980000e+02</td>\n",
       "      <td>1.000000e+00</td>\n",
       "    </tr>\n",
       "  </tbody>\n",
       "</table>\n",
       "</div>"
      ],
      "text/plain": [
       "                 ip           app        device            os       channel  \\\n",
       "count  4.634582e+06  4.634582e+06  4.634582e+06  4.634582e+06  4.634582e+06   \n",
       "mean   9.821082e+04  1.372415e+01  2.256507e+01  2.283386e+01  2.622898e+02   \n",
       "std    7.718802e+04  1.823492e+01  2.550767e+02  5.520052e+01  1.296426e+02   \n",
       "min    1.000000e+00  0.000000e+00  0.000000e+00  0.000000e+00  0.000000e+00   \n",
       "25%    4.201900e+04  3.000000e+00  1.000000e+00  1.300000e+01  1.400000e+02   \n",
       "50%    8.294100e+04  1.200000e+01  1.000000e+00  1.800000e+01  2.450000e+02   \n",
       "75%    1.239200e+05  1.800000e+01  1.000000e+00  1.900000e+01  3.770000e+02   \n",
       "max    3.647780e+05  7.680000e+02  4.223000e+03  9.020000e+02  4.980000e+02   \n",
       "\n",
       "       is_attributed  \n",
       "count   4.634582e+06  \n",
       "mean    9.857329e-02  \n",
       "std     2.980883e-01  \n",
       "min     0.000000e+00  \n",
       "25%     0.000000e+00  \n",
       "50%     0.000000e+00  \n",
       "75%     0.000000e+00  \n",
       "max     1.000000e+00  "
      ]
     },
     "execution_count": 15,
     "metadata": {},
     "output_type": "execute_result"
    }
   ],
   "source": [
    "dtypes = {\n",
    "    'ip'            : 'uint32', # changes between [0,364757] in sampled train dataset and test dataset\n",
    "    'app'           : 'uint16', # changes between [0,511] in sampled train dataset and test dataset\n",
    "    'device'        : 'uint16', # changes between [0,3867] in sampled train dataset and test dataset\n",
    "    'os'            : 'uint16', # changes between [0,866] in sampled train dataset and test dataset\n",
    "    'channel'       : 'uint16', # changes between [0,498] in sampled train dataset and test dataset\n",
    "    'is_attributed' : 'uint8'   # binary variable\n",
    "}\n",
    "usecols = ['ip', 'app', 'device', 'os', 'channel','is_attributed', 'click_time']\n",
    "\n",
    "chunksize = 4*(10**6)\n",
    "neg_sample_size = chunksize // (180*(10**6)// chunksize)\n",
    "\n",
    "\n",
    "train_df_list = []\n",
    "for chunked_df in  pd.read_csv(os.path.join(data_path, \"train.csv\"), dtype=dtypes, usecols=usecols, chunksize=chunksize):\n",
    "    train_df_list.append(chunked_df[chunked_df['is_attributed']==1])\n",
    "    train_df_list.append(chunked_df[chunked_df['is_attributed']==0].sample(n=neg_sample_size))\n",
    "    \n",
    "    print(chunked_df['is_attributed'].value_counts())\n",
    "    print(\"-\"*12)\n",
    "    \n",
    "    del chunked_df\n",
    "    gc.collect()\n",
    "\n",
    "train_df = pd.concat(train_df_list)\n",
    "train_df.describe()"
   ]
  },
  {
   "cell_type": "code",
   "execution_count": 16,
   "id": "promising-andrews",
   "metadata": {},
   "outputs": [
    {
     "name": "stdout",
     "output_type": "stream",
     "text": [
      "<class 'pandas.core.frame.DataFrame'>\n",
      "Int64Index: 4634582 entries, 103 to 184556942\n",
      "Data columns (total 7 columns):\n",
      " #   Column         Dtype \n",
      "---  ------         ----- \n",
      " 0   ip             uint32\n",
      " 1   app            uint16\n",
      " 2   device         uint16\n",
      " 3   os             uint16\n",
      " 4   channel        uint16\n",
      " 5   click_time     object\n",
      " 6   is_attributed  uint8 \n",
      "dtypes: object(1), uint16(4), uint32(1), uint8(1)\n",
      "memory usage: 128.2+ MB\n"
     ]
    }
   ],
   "source": [
    "train_df.info()"
   ]
  },
  {
   "cell_type": "code",
   "execution_count": 17,
   "id": "pending-castle",
   "metadata": {},
   "outputs": [
    {
     "name": "stdout",
     "output_type": "stream",
     "text": [
      "fraud 0.25 %\n",
      "normal 99.75 %\n"
     ]
    }
   ],
   "source": [
    "value_count = train_df['is_attributed'].value_counts()\n",
    "fraud_attributes =  100 * (value_count.iloc[1]) / 184903891\n",
    "print(\"fraud %.2f %%\\nnormal %.2f %%\" % (fraud_attributes, 100-fraud_attributes))"
   ]
  },
  {
   "cell_type": "markdown",
   "id": "behavioral-signature",
   "metadata": {},
   "source": [
    "<b>Comment:</b> <br>\n",
    "    1. even in whole train dataset fraud ratio is highly less %0.25 very close to sampled train dataset<br>\n",
    "    2. value range is also very similar, dtpes settings ok\n"
   ]
  },
  {
   "cell_type": "markdown",
   "id": "respective-british",
   "metadata": {},
   "source": [
    "### 2.4 analysis of target variable"
   ]
  },
  {
   "cell_type": "code",
   "execution_count": 18,
   "id": "scenic-thomson",
   "metadata": {},
   "outputs": [
    {
     "data": {
      "image/png": "[encoded data removed]",
      "text/plain": [
       "<Figure size 1440x360 with 5 Axes>"
      ]
     },
     "metadata": {
      "needs_background": "light"
     },
     "output_type": "display_data"
    }
   ],
   "source": [
    "cols = ['ip', 'app', 'device', 'os', 'channel']\n",
    "fig, axes = plt.subplots(nrows=1, ncols=len(cols), figsize=(20, 5))\n",
    "for ix, col_name in enumerate(cols): \n",
    "    ax = axes[ix] \n",
    "    sns.boxplot(x='is_attributed', y=col_name, data=train_df, ax=ax)\n",
    "    ax.set_ylabel(col_name) \n",
    "    ax.set_xlabel('') \n",
    "fig.tight_layout()"
   ]
  },
  {
   "cell_type": "code",
   "execution_count": 19,
   "id": "impaired-virginia",
   "metadata": {},
   "outputs": [
    {
     "name": "stderr",
     "output_type": "stream",
     "text": [
      "/home/vitus/anaconda3/envs/take_home/lib/python3.7/site-packages/seaborn/distributions.py:2164: UserWarning: `displot` is a figure-level function and does not accept the ax= paramter. You may wish to try kdeplot.\n",
      "  warnings.warn(msg, UserWarning)\n",
      "/home/vitus/anaconda3/envs/take_home/lib/python3.7/site-packages/seaborn/distributions.py:2164: UserWarning: `displot` is a figure-level function and does not accept the ax= paramter. You may wish to try kdeplot.\n",
      "  warnings.warn(msg, UserWarning)\n",
      "/home/vitus/anaconda3/envs/take_home/lib/python3.7/site-packages/seaborn/distributions.py:2164: UserWarning: `displot` is a figure-level function and does not accept the ax= paramter. You may wish to try kdeplot.\n",
      "  warnings.warn(msg, UserWarning)\n",
      "/home/vitus/anaconda3/envs/take_home/lib/python3.7/site-packages/seaborn/distributions.py:2164: UserWarning: `displot` is a figure-level function and does not accept the ax= paramter. You may wish to try kdeplot.\n",
      "  warnings.warn(msg, UserWarning)\n",
      "/home/vitus/anaconda3/envs/take_home/lib/python3.7/site-packages/seaborn/distributions.py:2164: UserWarning: `displot` is a figure-level function and does not accept the ax= paramter. You may wish to try kdeplot.\n",
      "  warnings.warn(msg, UserWarning)\n"
     ]
    },
    {
     "data": {
      "image/png": "[encoded data removed]",
      "text/plain": [
       "<Figure size 1440x360 with 5 Axes>"
      ]
     },
     "metadata": {
      "needs_background": "light"
     },
     "output_type": "display_data"
    },
    {
     "data": {
      "image/png": "[encoded data removed]",
      "text/plain": [
       "<Figure size 435.8x360 with 1 Axes>"
      ]
     },
     "metadata": {
      "needs_background": "light"
     },
     "output_type": "display_data"
    },
    {
     "data": {
      "image/png": "[encoded data removed]",
      "text/plain": [
       "<Figure size 435.8x360 with 1 Axes>"
      ]
     },
     "metadata": {
      "needs_background": "light"
     },
     "output_type": "display_data"
    },
    {
     "data": {
      "image/png": "[encoded data removed]",
      "text/plain": [
       "<Figure size 435.8x360 with 1 Axes>"
      ]
     },
     "metadata": {
      "needs_background": "light"
     },
     "output_type": "display_data"
    },
    {
     "data": {
      "image/png": "[encoded data removed]",
      "text/plain": [
       "<Figure size 435.8x360 with 1 Axes>"
      ]
     },
     "metadata": {
      "needs_background": "light"
     },
     "output_type": "display_data"
    },
    {
     "data": {
      "image/png": "[encoded data removed]",
      "text/plain": [
       "<Figure size 435.8x360 with 1 Axes>"
      ]
     },
     "metadata": {
      "needs_background": "light"
     },
     "output_type": "display_data"
    }
   ],
   "source": [
    "cols = ['ip', 'app', 'device', 'os', 'channel']\n",
    "fig, axes = plt.subplots(nrows=1, ncols=len(cols), figsize=(20, 5))\n",
    "for ix, col_name in enumerate(cols): \n",
    "    ax = axes[ix] \n",
    "    sns.displot(data=train_df, x=col_name, hue='is_attributed', ax=ax, kind=\"kde\")\n",
    "    ax.set_ylabel('') \n",
    "    ax.set_xlabel(col_name) \n",
    "fig.tight_layout()"
   ]
  },
  {
   "cell_type": "markdown",
   "id": "excited-compatibility",
   "metadata": {},
   "source": [
    "<b>Comment:</b> ip, os, channel distburibution differs for both class. But app and device is almost identical "
   ]
  },
  {
   "cell_type": "markdown",
   "id": "cubic-contents",
   "metadata": {},
   "source": [
    "# 3. Feature Engineering"
   ]
  },
  {
   "cell_type": "markdown",
   "id": "empty-rebel",
   "metadata": {},
   "source": [
    "### 3.1 datetime features"
   ]
  },
  {
   "cell_type": "code",
   "execution_count": 20,
   "id": "enormous-plenty",
   "metadata": {},
   "outputs": [
    {
     "data": {
      "text/html": [
       "<div>\n",
       "<style scoped>\n",
       "    .dataframe tbody tr th:only-of-type {\n",
       "        vertical-align: middle;\n",
       "    }\n",
       "\n",
       "    .dataframe tbody tr th {\n",
       "        vertical-align: top;\n",
       "    }\n",
       "\n",
       "    .dataframe thead th {\n",
       "        text-align: right;\n",
       "    }\n",
       "</style>\n",
       "<table border=\"1\" class=\"dataframe\">\n",
       "  <thead>\n",
       "    <tr style=\"text-align: right;\">\n",
       "      <th></th>\n",
       "      <th>ip</th>\n",
       "      <th>app</th>\n",
       "      <th>device</th>\n",
       "      <th>os</th>\n",
       "      <th>channel</th>\n",
       "      <th>click_time</th>\n",
       "      <th>is_attributed</th>\n",
       "      <th>minute</th>\n",
       "      <th>hour</th>\n",
       "      <th>dayofweek</th>\n",
       "    </tr>\n",
       "  </thead>\n",
       "  <tbody>\n",
       "    <tr>\n",
       "      <th>103</th>\n",
       "      <td>204158</td>\n",
       "      <td>35</td>\n",
       "      <td>1</td>\n",
       "      <td>13</td>\n",
       "      <td>21</td>\n",
       "      <td>2017-11-06 15:41:07</td>\n",
       "      <td>1</td>\n",
       "      <td>41</td>\n",
       "      <td>15</td>\n",
       "      <td>0</td>\n",
       "    </tr>\n",
       "    <tr>\n",
       "      <th>1504</th>\n",
       "      <td>29692</td>\n",
       "      <td>9</td>\n",
       "      <td>1</td>\n",
       "      <td>22</td>\n",
       "      <td>215</td>\n",
       "      <td>2017-11-06 16:00:02</td>\n",
       "      <td>1</td>\n",
       "      <td>0</td>\n",
       "      <td>16</td>\n",
       "      <td>0</td>\n",
       "    </tr>\n",
       "    <tr>\n",
       "      <th>1798</th>\n",
       "      <td>64516</td>\n",
       "      <td>35</td>\n",
       "      <td>1</td>\n",
       "      <td>13</td>\n",
       "      <td>21</td>\n",
       "      <td>2017-11-06 16:00:02</td>\n",
       "      <td>1</td>\n",
       "      <td>0</td>\n",
       "      <td>16</td>\n",
       "      <td>0</td>\n",
       "    </tr>\n",
       "    <tr>\n",
       "      <th>2102</th>\n",
       "      <td>172429</td>\n",
       "      <td>35</td>\n",
       "      <td>1</td>\n",
       "      <td>46</td>\n",
       "      <td>274</td>\n",
       "      <td>2017-11-06 16:00:03</td>\n",
       "      <td>1</td>\n",
       "      <td>0</td>\n",
       "      <td>16</td>\n",
       "      <td>0</td>\n",
       "    </tr>\n",
       "    <tr>\n",
       "      <th>3056</th>\n",
       "      <td>199085</td>\n",
       "      <td>35</td>\n",
       "      <td>1</td>\n",
       "      <td>13</td>\n",
       "      <td>274</td>\n",
       "      <td>2017-11-06 16:00:04</td>\n",
       "      <td>1</td>\n",
       "      <td>0</td>\n",
       "      <td>16</td>\n",
       "      <td>0</td>\n",
       "    </tr>\n",
       "  </tbody>\n",
       "</table>\n",
       "</div>"
      ],
      "text/plain": [
       "          ip  app  device  os  channel           click_time  is_attributed  \\\n",
       "103   204158   35       1  13       21  2017-11-06 15:41:07              1   \n",
       "1504   29692    9       1  22      215  2017-11-06 16:00:02              1   \n",
       "1798   64516   35       1  13       21  2017-11-06 16:00:02              1   \n",
       "2102  172429   35       1  46      274  2017-11-06 16:00:03              1   \n",
       "3056  199085   35       1  13      274  2017-11-06 16:00:04              1   \n",
       "\n",
       "      minute  hour  dayofweek  \n",
       "103       41    15          0  \n",
       "1504       0    16          0  \n",
       "1798       0    16          0  \n",
       "2102       0    16          0  \n",
       "3056       0    16          0  "
      ]
     },
     "execution_count": 20,
     "metadata": {},
     "output_type": "execute_result"
    }
   ],
   "source": [
    "for fea in ['minute', 'hour', 'dayofweek']:\n",
    "    train_df[fea] =  pd.to_datetime(train_df['click_time']).dt.__getattribute__(fea).astype('uint8')\n",
    "train_df.head()"
   ]
  },
  {
   "cell_type": "code",
   "execution_count": 21,
   "id": "positive-manor",
   "metadata": {},
   "outputs": [
    {
     "data": {
      "image/png": "[encoded data removed]",
      "text/plain": [
       "<Figure size 1440x360 with 3 Axes>"
      ]
     },
     "metadata": {
      "needs_background": "light"
     },
     "output_type": "display_data"
    }
   ],
   "source": [
    "cols = ['minute', 'hour', 'dayofweek']\n",
    "fig, axes = plt.subplots(nrows=1, ncols=len(cols), figsize=(20, 5))\n",
    "for ix, col_name in enumerate(cols): \n",
    "    ax = axes[ix] \n",
    "    sns.boxplot(x='is_attributed', y=col_name, data=train_df, ax=ax)\n",
    "    ax.set_ylabel(col_name) \n",
    "    ax.set_xlabel('') \n",
    "fig.tight_layout()"
   ]
  },
  {
   "cell_type": "code",
   "execution_count": 22,
   "id": "computational-mechanics",
   "metadata": {},
   "outputs": [
    {
     "data": {
      "text/plain": [
       "('2017-11-06 14:57:50', '2017-11-09 16:00:00')"
      ]
     },
     "execution_count": 22,
     "metadata": {},
     "output_type": "execute_result"
    }
   ],
   "source": [
    "train_df['click_time'].min(), train_df['click_time'].max()"
   ]
  },
  {
   "cell_type": "markdown",
   "id": "raising-communications",
   "metadata": {},
   "source": [
    "<b>Comment:</b> there are only four days data, keep day instead of click_time"
   ]
  },
  {
   "cell_type": "markdown",
   "id": "written-warning",
   "metadata": {},
   "source": [
    "### 3.2 aggregation features"
   ]
  },
  {
   "cell_type": "code",
   "execution_count": 23,
   "id": "known-shame",
   "metadata": {},
   "outputs": [],
   "source": [
    "def aggregate(df, columns, on, operation, dtype='', debug=True):\n",
    "    \"\"\"\n",
    "    this method provide as generic functionality of aggregation operations\n",
    "    \"\"\"\n",
    "    \n",
    "    # aggregate\n",
    "    col_name = \"{operation}_{columns}_on_{on}\".format(operation=operation, columns='_'.join(columns), on='_'.join(on))\n",
    "    agg_df = df.groupby(on)[columns].agg(operation)\n",
    "    agg_df.columns = [col_name]\n",
    "    \n",
    "    # cast if dtype exists\n",
    "    if dtype:\n",
    "        agg_df[col_name] = agg_df[col_name].astype(dtype)\n",
    "    \n",
    "    # merge with main dataframe\n",
    "    df = pd.merge(df, agg_df.reset_index(), left_on=on, right_on=on, how='left')\n",
    "    \n",
    "    # show class distribution in debug mode\n",
    "    if debug:\n",
    "        print(\"%s - %s\" % (agg_df.min(), agg_df.max()))\n",
    "        print(\"mean(class 0):%.1f\\nmean(class 1):%.1f\" % (\n",
    "            df.loc[df['is_attributed']==0, col_name].mean(),\n",
    "            df.loc[df['is_attributed']==1, col_name].mean()))\n",
    "          \n",
    "    del agg_df\n",
    "    gc.collect()\n",
    "    \n",
    "    if not debug:\n",
    "        return df"
   ]
  },
  {
   "cell_type": "code",
   "execution_count": 24,
   "id": "valuable-mauritius",
   "metadata": {},
   "outputs": [
    {
     "name": "stdout",
     "output_type": "stream",
     "text": [
      "count_channel_on_ip_os    1\n",
      "dtype: int64 - count_channel_on_ip_os    6478\n",
      "dtype: int64\n",
      "mean(class 0):120.9\n",
      "mean(class 1):54.6\n"
     ]
    }
   ],
   "source": [
    "aggregate(train_df, ['channel'], ['ip', 'os'], 'count')"
   ]
  },
  {
   "cell_type": "code",
   "execution_count": 25,
   "id": "racial-offering",
   "metadata": {},
   "outputs": [
    {
     "name": "stdout",
     "output_type": "stream",
     "text": [
      "count_channel_on_ip_device    1\n",
      "dtype: int64 - count_channel_on_ip_device    25869\n",
      "dtype: int64\n",
      "mean(class 0):843.4\n",
      "mean(class 1):322.8\n"
     ]
    }
   ],
   "source": [
    "aggregate(train_df, ['channel'], ['ip', 'device'], 'count')"
   ]
  },
  {
   "cell_type": "code",
   "execution_count": 26,
   "id": "fatal-perspective",
   "metadata": {},
   "outputs": [
    {
     "name": "stdout",
     "output_type": "stream",
     "text": [
      "count_channel_on_ip_app    1\n",
      "dtype: int64 - count_channel_on_ip_app    4770\n",
      "dtype: int64\n",
      "mean(class 0):111.4\n",
      "mean(class 1):20.0\n"
     ]
    }
   ],
   "source": [
    "aggregate(train_df, ['channel'], ['ip', 'app'], 'count')"
   ]
  },
  {
   "cell_type": "code",
   "execution_count": 27,
   "id": "pressed-calgary",
   "metadata": {},
   "outputs": [
    {
     "name": "stdout",
     "output_type": "stream",
     "text": [
      "count_channel_on_ip_os_app    1\n",
      "dtype: int64 - count_channel_on_ip_os_app    1196\n",
      "dtype: int64\n",
      "mean(class 0):14.0\n",
      "mean(class 1):4.2\n"
     ]
    }
   ],
   "source": [
    "aggregate(train_df, ['channel'], ['ip', 'os', 'app'], 'count')"
   ]
  },
  {
   "cell_type": "code",
   "execution_count": 28,
   "id": "emerging-basement",
   "metadata": {},
   "outputs": [
    {
     "name": "stdout",
     "output_type": "stream",
     "text": [
      "count_channel_on_ip_hour_dayofweek    1\n",
      "dtype: int64 - count_channel_on_ip_hour_dayofweek    1388\n",
      "dtype: int64\n",
      "mean(class 0):24.1\n",
      "mean(class 1):13.5\n"
     ]
    }
   ],
   "source": [
    "aggregate(train_df, ['channel'], ['ip', 'hour', 'dayofweek'], 'count')"
   ]
  },
  {
   "cell_type": "code",
   "execution_count": 29,
   "id": "useful-logging",
   "metadata": {},
   "outputs": [
    {
     "name": "stdout",
     "output_type": "stream",
     "text": [
      "mean_hour_on_ip_app    0.0\n",
      "dtype: float64 - mean_hour_on_ip_app    23.0\n",
      "dtype: float64\n",
      "mean(class 0):9.4\n",
      "mean(class 1):8.7\n"
     ]
    }
   ],
   "source": [
    "aggregate(train_df, ['hour'], ['ip', 'app'], 'mean')"
   ]
  },
  {
   "cell_type": "code",
   "execution_count": 30,
   "id": "corrected-criterion",
   "metadata": {},
   "outputs": [
    {
     "name": "stdout",
     "output_type": "stream",
     "text": [
      "std_hour_on_ip_app    0.0\n",
      "dtype: float64 - std_hour_on_ip_app    16.263456\n",
      "dtype: float64\n",
      "mean(class 0):5.7\n",
      "mean(class 1):4.4\n"
     ]
    }
   ],
   "source": [
    "aggregate(train_df, ['hour'], ['ip', 'app'], 'std')"
   ]
  },
  {
   "cell_type": "code",
   "execution_count": 31,
   "id": "piano-qatar",
   "metadata": {},
   "outputs": [
    {
     "name": "stdout",
     "output_type": "stream",
     "text": [
      "mean_hour_on_ip_app_channel    0.0\n",
      "dtype: float64 - mean_hour_on_ip_app_channel    23.0\n",
      "dtype: float64\n",
      "mean(class 0):9.4\n",
      "mean(class 1):8.7\n"
     ]
    }
   ],
   "source": [
    "aggregate(train_df, ['hour'], ['ip', 'app', 'channel'], 'mean')"
   ]
  },
  {
   "cell_type": "code",
   "execution_count": 32,
   "id": "tested-bangkok",
   "metadata": {},
   "outputs": [
    {
     "name": "stdout",
     "output_type": "stream",
     "text": [
      "std_hour_on_ip_app_channel    0.0\n",
      "dtype: float64 - std_hour_on_ip_app_channel    16.263456\n",
      "dtype: float64\n",
      "mean(class 0):5.2\n",
      "mean(class 1):4.0\n"
     ]
    }
   ],
   "source": [
    "aggregate(train_df, ['hour'], ['ip', 'app', 'channel'], 'std')"
   ]
  },
  {
   "cell_type": "markdown",
   "id": "completed-ribbon",
   "metadata": {},
   "source": [
    "<b>Comment:</b> aggregation features, especially ones counts on channel column, seem disciriminative"
   ]
  },
  {
   "cell_type": "markdown",
   "id": "experienced-adaptation",
   "metadata": {},
   "source": [
    "# 4. Model Development"
   ]
  },
  {
   "cell_type": "markdown",
   "id": "ideal-concentration",
   "metadata": {},
   "source": [
    "### 4.1 prepare datasets for modelling"
   ]
  },
  {
   "cell_type": "code",
   "execution_count": 33,
   "id": "legendary-edition",
   "metadata": {},
   "outputs": [
    {
     "data": {
      "text/plain": [
       "Index(['ip', 'app', 'os', 'channel', 'is_attributed', 'hour', 'dayofweek'], dtype='object')"
      ]
     },
     "execution_count": 33,
     "metadata": {},
     "output_type": "execute_result"
    }
   ],
   "source": [
    "train_df.drop(['click_time', 'minute', 'device'], axis=1, inplace=True)\n",
    "train_df.columns"
   ]
  },
  {
   "cell_type": "code",
   "execution_count": 34,
   "id": "valued-tomorrow",
   "metadata": {},
   "outputs": [
    {
     "data": {
      "text/plain": [
       "Index(['ip', 'app', 'os', 'channel', 'hour', 'dayofweek'], dtype='object')"
      ]
     },
     "execution_count": 34,
     "metadata": {},
     "output_type": "execute_result"
    }
   ],
   "source": [
    "for fea in ['hour', 'dayofweek']:\n",
    "    test_df[fea] =  pd.to_datetime(test_df['click_time']).dt.__getattribute__(fea).astype('uint8')\n",
    "test_df.drop(['click_id', 'click_time', 'device'], axis=1,inplace=True)\n",
    "test_df.columns"
   ]
  },
  {
   "cell_type": "code",
   "execution_count": 35,
   "id": "german-shape",
   "metadata": {},
   "outputs": [
    {
     "data": {
      "text/plain": [
       "88"
      ]
     },
     "execution_count": 35,
     "metadata": {},
     "output_type": "execute_result"
    }
   ],
   "source": [
    "train_len = len(train_df)\n",
    "train_y = train_df['is_attributed']\n",
    "all_df=train_df.drop(['is_attributed'], axis=1).append(test_df)\n",
    "\n",
    "del train_df\n",
    "del test_df\n",
    "gc.collect()"
   ]
  },
  {
   "cell_type": "code",
   "execution_count": 36,
   "id": "turned-feeling",
   "metadata": {},
   "outputs": [],
   "source": [
    "def feature_enrichment(df):\n",
    "    \"\"\"\n",
    "    perform aggregation feature enrichment for a given dataframe\n",
    "    \"\"\"\n",
    "    \n",
    "    df = aggregate(df, ['channel'], ['ip', 'app'], 'count', dtype='uint16', debug=False)\n",
    "    df = aggregate(df, ['channel'], ['ip', 'app', 'os'], 'count', dtype='uint16', debug=False)\n",
    "    df = aggregate(df, ['channel'], ['ip', 'hour', 'dayofweek'], 'count', dtype='uint16', debug=False)\n",
    "    df = aggregate(df, ['hour'], ['ip', 'app', 'channel'], 'mean', dtype='uint8', debug=False)\n",
    "    df = aggregate(df, ['hour'], ['ip', 'app', 'os'], 'mean', dtype='uint8', debug=False)\n",
    "    # .... TODO: etc.\n",
    "    \n",
    "    gc.collect()\n",
    "    return df"
   ]
  },
  {
   "cell_type": "code",
   "execution_count": 37,
   "id": "introductory-desire",
   "metadata": {},
   "outputs": [
    {
     "name": "stdout",
     "output_type": "stream",
     "text": [
      "<class 'pandas.core.frame.DataFrame'>\n",
      "Int64Index: 23425051 entries, 0 to 23425050\n",
      "Data columns (total 11 columns):\n",
      " #   Column                              Dtype \n",
      "---  ------                              ----- \n",
      " 0   ip                                  int64 \n",
      " 1   app                                 int64 \n",
      " 2   os                                  int64 \n",
      " 3   channel                             int64 \n",
      " 4   hour                                uint8 \n",
      " 5   dayofweek                           uint8 \n",
      " 6   count_channel_on_ip_app             uint16\n",
      " 7   count_channel_on_ip_app_os          uint16\n",
      " 8   count_channel_on_ip_hour_dayofweek  uint16\n",
      " 9   mean_hour_on_ip_app_channel         uint8 \n",
      " 10  mean_hour_on_ip_app_os              uint8 \n",
      "dtypes: int64(4), uint16(3), uint8(4)\n",
      "memory usage: 1.1 GB\n"
     ]
    }
   ],
   "source": [
    "all_df = feature_enrichment(all_df)\n",
    "all_df.info()"
   ]
  },
  {
   "cell_type": "code",
   "execution_count": 42,
   "id": "endangered-escape",
   "metadata": {},
   "outputs": [],
   "source": [
    "# divide datasettrain, validation, test\n",
    "val_len = int(train_len*0.3)\n",
    "\n",
    "train_X = all_df[:(train_len-val_len)]\n",
    "val_X = all_df[(train_len-val_len):train_len]\n",
    "test_X = all_df[train_len:]\n",
    "\n",
    "y_val = train_y[(train_len-val_len):]\n",
    "y_train = train_y[:(train_len-val_len)]"
   ]
  },
  {
   "cell_type": "markdown",
   "id": "commercial-fireplace",
   "metadata": {},
   "source": [
    "### 4.2 simplest models"
   ]
  },
  {
   "cell_type": "code",
   "execution_count": 44,
   "id": "minus-stupid",
   "metadata": {},
   "outputs": [],
   "source": [
    "def run_model(clf):\n",
    "    \"\"\"\n",
    "    train a defined model on train dataset and perform prediction on validation set.\n",
    "    \"\"\"\n",
    "    \n",
    "    clf.fit(train_X, y_train)\n",
    "    y_val_pred=clf.predict(val_X)\n",
    "    print(roc_auc_score(y_val, y_val_pred))\n",
    "    del clf\n",
    "    del y_val_pred\n",
    "    gc.collect()"
   ]
  },
  {
   "cell_type": "code",
   "execution_count": 47,
   "id": "lucky-insight",
   "metadata": {},
   "outputs": [
    {
     "name": "stdout",
     "output_type": "stream",
     "text": [
      "0.8992334407123728\n"
     ]
    }
   ],
   "source": [
    "# lgbm classifier\n",
    "clf_lgb = lgb.LGBMClassifier()\n",
    "run_model(clf_lgb)"
   ]
  },
  {
   "cell_type": "code",
   "execution_count": 48,
   "id": "consecutive-mission",
   "metadata": {},
   "outputs": [
    {
     "name": "stdout",
     "output_type": "stream",
     "text": [
      "0.9181189274071911\n"
     ]
    }
   ],
   "source": [
    "# lgbm classifier considering unbalanced classes\n",
    "clf_lgb = lgb.LGBMClassifier(is_unbalance = True) #scale_pos_weight=99)\n",
    "run_model(clf_lgb)"
   ]
  },
  {
   "cell_type": "code",
   "execution_count": 49,
   "id": "attended-assumption",
   "metadata": {},
   "outputs": [],
   "source": [
    "# ensemble with RandomClassifier\n",
    "\n",
    "# note: since the training time of the model takes long, this part commented\n",
    "#\n",
    "# clf_rf = RandomForestClassifier(class_weight='balanced')\n",
    "# run_model(clf_rf)\n",
    "\n",
    "# clf_ens = VotingClassifier(estimators=[('lgb', clf_lgb), ('rf', clf_rf))\n",
    "# run_model(clf_ens)      "
   ]
  },
  {
   "cell_type": "markdown",
   "id": "alone-spiritual",
   "metadata": {},
   "source": [
    "### 4.3 select best model"
   ]
  },
  {
   "cell_type": "code",
   "execution_count": 58,
   "id": "light-billion",
   "metadata": {},
   "outputs": [],
   "source": [
    "hyper_params = {\n",
    "    'n_estimators'  : np.arange(200, 1000, 20),\n",
    "    'max_depth'     : np.arange(2, 8, 1),\n",
    "    'learning_rate' : uniform(0.01, 0.19),\n",
    "    'subsample'     : loguniform(0.8, 1)\n",
    "}\n",
    "\n",
    "cv = model_selection.StratifiedKFold(n_splits=2)\n",
    "search = model_selection.RandomizedSearchCV(\n",
    "    estimator= lgb.LGBMClassifier(is_unbalance=True), \n",
    "    param_distributions=hyper_params, \n",
    "    scoring='roc_auc',\n",
    "    cv=cv, \n",
    "    n_iter=5, \n",
    "    random_state=10)"
   ]
  },
  {
   "cell_type": "code",
   "execution_count": null,
   "id": "nasty-nickname",
   "metadata": {},
   "outputs": [
    {
     "name": "stdout",
     "output_type": "stream",
     "text": [
      "[LightGBM] [Warning] Accuracy may be bad since you didn't explicitly set num_leaves OR 2^max_depth > num_leaves. (num_leaves=31).\n",
      "[LightGBM] [Warning] Accuracy may be bad since you didn't explicitly set num_leaves OR 2^max_depth > num_leaves. (num_leaves=31).\n",
      "[LightGBM] [Warning] Accuracy may be bad since you didn't explicitly set num_leaves OR 2^max_depth > num_leaves. (num_leaves=31).\n",
      "[LightGBM] [Warning] Accuracy may be bad since you didn't explicitly set num_leaves OR 2^max_depth > num_leaves. (num_leaves=31).\n",
      "[LightGBM] [Warning] Accuracy may be bad since you didn't explicitly set num_leaves OR 2^max_depth > num_leaves. (num_leaves=31).\n"
     ]
    }
   ],
   "source": [
    "search.fit(train_X, y_train)\n",
    "y_val_pred=search.predict(val_X)\n",
    "print(roc_auc_score(y_val, y_val_pred))"
   ]
  },
  {
   "cell_type": "code",
   "execution_count": 57,
   "id": "clean-juice",
   "metadata": {},
   "outputs": [
    {
     "name": "stdout",
     "output_type": "stream",
     "text": [
      "Best cv score:    0.964045304045136\n",
      "Best parameters:  {'learning_rate': 0.04764314447626435, 'max_depth': 3, 'n_estimators': 360, 'num_leaves': 32, 'subsample': 0.8538384353032953}\n",
      "Best model:       LGBMClassifier(is_unbalance=True, learning_rate=0.04764314447626435,\n",
      "               max_depth=3, n_estimators=360, num_leaves=32,\n",
      "               subsample=0.8538384353032953)\n"
     ]
    }
   ],
   "source": [
    "best_model = search.best_estimator_\n",
    "print('Best cv score:    {}'.format(search.best_score_))\n",
    "print('Best parameters:  {}'.format(search.best_params_))\n",
    "print('Best model:       {}'.format(best_model))"
   ]
  }
 ],
 "metadata": {
  "kernelspec": {
   "display_name": "Python 3",
   "language": "python",
   "name": "python3"
  },
  "language_info": {
   "codemirror_mode": {
    "name": "ipython",
    "version": 3
   },
   "file_extension": ".py",
   "mimetype": "text/x-python",
   "name": "python",
   "nbconvert_exporter": "python",
   "pygments_lexer": "ipython3",
   "version": "3.7.9"
  }
 },
 "nbformat": 4,
 "nbformat_minor": 5
}
